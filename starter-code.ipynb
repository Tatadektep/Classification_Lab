{
 "cells": [
  {
   "cell_type": "markdown",
   "id": "e5e043b2",
   "metadata": {},
   "source": [
    "## Week 4, Lab 1: Predicting Left-Handedness from Psychological Factors\n",
    "> Author: Matt Brems\n",
    "\n",
    "One way to define the data science process is as follows:\n",
    "\n",
    "1. Define the problem.\n",
    "2. Obtain the data.\n",
    "3. Explore the data.\n",
    "4. Model the data.\n",
    "5. Evaluate the model.\n",
    "6. Answer the problem.\n",
    "\n",
    "We'll walk through a full data science problem in this lab. \n",
    "\n",
    "---\n",
    "## Define The Problem.\n",
    "\n",
    "You're currently a data scientist working at a university. A professor of psychology is attempting to study the relationship between personalities and left-handedness. They have tasked you with gathering evidence so that they may publish.\n",
    "\n",
    "As a data scientist, you know that any real data science problem must be **specific** and **conclusively answerable**. For example:\n",
    "- Bad data science problem: \"What is the link between obesity and blood pressure?\"\n",
    "    - This is vague and is not conclusively answerable. That is, two people might look at the conclusion and one may say \"Sure, the problem has been answered!\" and the other may say \"The problem has not yet been answered.\"\n",
    "- Good data science problem: \"Does an association exist between obesity and blood pressure?\"\n",
    "    - This is more specific and is conclusively answerable. The problem specifically is asking for a \"Yes\" or \"No\" answer. Based on that, two independent people should both be able to say either \"Yes, the problem has been answered\" or \"No, the problem has not yet been answered.\"\n",
    "- Excellent data science problem: \"As obesity increases, how does blood pressure change?\"\n",
    "    - This is very specific and is conclusively answerable. The problem specifically seeks to understand the effect of one variable on the other.\n",
    "\n",
    "### In the context of the left-handedness and personality example, what are three specific and conclusively answerable problems that you could answer using data science? \n",
    "\n",
    "> You might find it helpful to check out the codebook in the repo for some inspiration."
   ]
  },
  {
   "cell_type": "markdown",
   "id": "b030ec25",
   "metadata": {},
   "source": [
    "1. Does a left-handed person play more video games than a right-handed person?\n",
    "2. Does a left-handed person work harder in school than a right-handed person?\n",
    "3. Is left-handedness more common in males than females?"
   ]
  },
  {
   "cell_type": "markdown",
   "id": "32144652",
   "metadata": {},
   "source": [
    "---\n",
    "## Step 2: Obtain the data.\n",
    "\n",
    "### Read in the file titled \"data.csv\":\n",
    "> Hint: Despite being saved as a .csv file, you won't be able to simply `pd.read_csv()` this data!"
   ]
  },
  {
   "cell_type": "code",
   "execution_count": 3,
   "id": "2a154e91",
   "metadata": {},
   "outputs": [],
   "source": [
    "# library imports\n",
    "import pandas as pd\n",
    "import numpy as np\n",
    "import matplotlib.pyplot as plt\n",
    "import seaborn as sns\n",
    "\n",
    "from sklearn.linear_model import LinearRegression\n",
    "from sklearn.linear_model import LogisticRegression\n",
    "from sklearn.model_selection import train_test_split,cross_val_score\n",
    "from sklearn.preprocessing import StandardScaler\n",
    "\n",
    "from sklearn.neighbors import KNeighborsClassifier\n",
    "\n",
    "# Ignore warnings\n",
    "import warnings\n",
    "warnings.filterwarnings(\"ignore\")"
   ]
  },
  {
   "cell_type": "code",
   "execution_count": 4,
   "id": "1e730059",
   "metadata": {},
   "outputs": [],
   "source": [
    "df = pd.read_csv(\"data.csv\",sep=\"\\t\") # seperator = \"\\t\" for tab instead of default comma (,)"
   ]
  },
  {
   "cell_type": "code",
   "execution_count": 5,
   "id": "b39c41c5",
   "metadata": {},
   "outputs": [
    {
     "data": {
      "text/plain": [
       "(4184, 56)"
      ]
     },
     "execution_count": 5,
     "metadata": {},
     "output_type": "execute_result"
    }
   ],
   "source": [
    "df.shape"
   ]
  },
  {
   "cell_type": "code",
   "execution_count": 6,
   "id": "4fb2ce14",
   "metadata": {},
   "outputs": [],
   "source": [
    "# Note that there is no missing data.\n",
    "#df.isnull().sum()\n",
    "#df.info()"
   ]
  },
  {
   "cell_type": "markdown",
   "id": "50b55b21",
   "metadata": {},
   "source": [
    "---\n",
    "\n",
    "## Step 3: Explore the data.\n",
    "\n",
    "### Conduct background research:\n",
    "\n",
    "Domain knowledge is irreplaceable. Figuring out what information is relevant to a problem, or what data would be useful to gather, is a major part of any end-to-end data science project! For this lab, you'll be using a dataset that someone else has put together, rather than collecting the data yourself.\n",
    "\n",
    "Do some background research about personality and handedness. What features, if any, are likely to help you make good predictions? How well do you think you'll be able to model this? Write a few bullet points summarizing what you believe, and remember to cite external sources.\n",
    "\n",
    "You don't have to be exhaustive here. Do enough research to form an opinion, and then move on.\n",
    "\n",
    "> You'll be using the answers to Q1-Q44 for modeling; you can disregard other features, e.g. country, age, internet browser."
   ]
  },
  {
   "cell_type": "code",
   "execution_count": 7,
   "id": "ac5eff1f",
   "metadata": {},
   "outputs": [],
   "source": [
    "# Left and right-handed personality tend to have some different due to cultural discrimination and \n",
    "# they could also be advantage in some sports such as boxing due to the rarity of left-handness of (~10%).\n",
    "# Historically, the system tends to force left-handed people to use right hand as the norm.\n",
    "# Hence, a considerable proportion of left-handed people can use both hand."
   ]
  },
  {
   "cell_type": "markdown",
   "id": "3adf0649",
   "metadata": {},
   "source": [
    "### Conduct exploratory data analysis on this dataset:\n",
    "\n",
    "If you haven't already, be sure to check out the codebook in the repo, as that will help in your EDA process.\n",
    "\n",
    "You might use this section to perform data cleaning if you find it to be necessary."
   ]
  },
  {
   "cell_type": "code",
   "execution_count": 8,
   "id": "0dfaf7ef",
   "metadata": {},
   "outputs": [
    {
     "data": {
      "text/html": [
       "<div>\n",
       "<style scoped>\n",
       "    .dataframe tbody tr th:only-of-type {\n",
       "        vertical-align: middle;\n",
       "    }\n",
       "\n",
       "    .dataframe tbody tr th {\n",
       "        vertical-align: top;\n",
       "    }\n",
       "\n",
       "    .dataframe thead th {\n",
       "        text-align: right;\n",
       "    }\n",
       "</style>\n",
       "<table border=\"1\" class=\"dataframe\">\n",
       "  <thead>\n",
       "    <tr style=\"text-align: right;\">\n",
       "      <th></th>\n",
       "      <th>Q1</th>\n",
       "      <th>Q2</th>\n",
       "      <th>Q3</th>\n",
       "      <th>Q4</th>\n",
       "      <th>Q5</th>\n",
       "      <th>Q6</th>\n",
       "      <th>Q7</th>\n",
       "      <th>Q8</th>\n",
       "      <th>Q9</th>\n",
       "      <th>Q10</th>\n",
       "      <th>...</th>\n",
       "      <th>country</th>\n",
       "      <th>fromgoogle</th>\n",
       "      <th>engnat</th>\n",
       "      <th>age</th>\n",
       "      <th>education</th>\n",
       "      <th>gender</th>\n",
       "      <th>orientation</th>\n",
       "      <th>race</th>\n",
       "      <th>religion</th>\n",
       "      <th>hand</th>\n",
       "    </tr>\n",
       "  </thead>\n",
       "  <tbody>\n",
       "    <tr>\n",
       "      <th>0</th>\n",
       "      <td>4</td>\n",
       "      <td>1</td>\n",
       "      <td>5</td>\n",
       "      <td>1</td>\n",
       "      <td>5</td>\n",
       "      <td>1</td>\n",
       "      <td>5</td>\n",
       "      <td>1</td>\n",
       "      <td>4</td>\n",
       "      <td>1</td>\n",
       "      <td>...</td>\n",
       "      <td>US</td>\n",
       "      <td>2</td>\n",
       "      <td>1</td>\n",
       "      <td>22</td>\n",
       "      <td>3</td>\n",
       "      <td>1</td>\n",
       "      <td>1</td>\n",
       "      <td>3</td>\n",
       "      <td>2</td>\n",
       "      <td>3</td>\n",
       "    </tr>\n",
       "    <tr>\n",
       "      <th>1</th>\n",
       "      <td>1</td>\n",
       "      <td>5</td>\n",
       "      <td>1</td>\n",
       "      <td>4</td>\n",
       "      <td>2</td>\n",
       "      <td>5</td>\n",
       "      <td>5</td>\n",
       "      <td>4</td>\n",
       "      <td>1</td>\n",
       "      <td>5</td>\n",
       "      <td>...</td>\n",
       "      <td>CA</td>\n",
       "      <td>2</td>\n",
       "      <td>1</td>\n",
       "      <td>14</td>\n",
       "      <td>1</td>\n",
       "      <td>2</td>\n",
       "      <td>2</td>\n",
       "      <td>6</td>\n",
       "      <td>1</td>\n",
       "      <td>1</td>\n",
       "    </tr>\n",
       "    <tr>\n",
       "      <th>2</th>\n",
       "      <td>1</td>\n",
       "      <td>2</td>\n",
       "      <td>1</td>\n",
       "      <td>1</td>\n",
       "      <td>5</td>\n",
       "      <td>4</td>\n",
       "      <td>3</td>\n",
       "      <td>2</td>\n",
       "      <td>1</td>\n",
       "      <td>4</td>\n",
       "      <td>...</td>\n",
       "      <td>NL</td>\n",
       "      <td>2</td>\n",
       "      <td>2</td>\n",
       "      <td>30</td>\n",
       "      <td>4</td>\n",
       "      <td>1</td>\n",
       "      <td>1</td>\n",
       "      <td>1</td>\n",
       "      <td>1</td>\n",
       "      <td>2</td>\n",
       "    </tr>\n",
       "    <tr>\n",
       "      <th>3</th>\n",
       "      <td>1</td>\n",
       "      <td>4</td>\n",
       "      <td>1</td>\n",
       "      <td>5</td>\n",
       "      <td>1</td>\n",
       "      <td>4</td>\n",
       "      <td>5</td>\n",
       "      <td>4</td>\n",
       "      <td>3</td>\n",
       "      <td>5</td>\n",
       "      <td>...</td>\n",
       "      <td>US</td>\n",
       "      <td>2</td>\n",
       "      <td>1</td>\n",
       "      <td>18</td>\n",
       "      <td>2</td>\n",
       "      <td>2</td>\n",
       "      <td>5</td>\n",
       "      <td>3</td>\n",
       "      <td>2</td>\n",
       "      <td>2</td>\n",
       "    </tr>\n",
       "    <tr>\n",
       "      <th>4</th>\n",
       "      <td>5</td>\n",
       "      <td>1</td>\n",
       "      <td>5</td>\n",
       "      <td>1</td>\n",
       "      <td>5</td>\n",
       "      <td>1</td>\n",
       "      <td>5</td>\n",
       "      <td>1</td>\n",
       "      <td>3</td>\n",
       "      <td>1</td>\n",
       "      <td>...</td>\n",
       "      <td>US</td>\n",
       "      <td>2</td>\n",
       "      <td>1</td>\n",
       "      <td>22</td>\n",
       "      <td>3</td>\n",
       "      <td>1</td>\n",
       "      <td>1</td>\n",
       "      <td>3</td>\n",
       "      <td>2</td>\n",
       "      <td>3</td>\n",
       "    </tr>\n",
       "  </tbody>\n",
       "</table>\n",
       "<p>5 rows × 56 columns</p>\n",
       "</div>"
      ],
      "text/plain": [
       "   Q1  Q2  Q3  Q4  Q5  Q6  Q7  Q8  Q9  Q10  ...  country  fromgoogle  engnat  \\\n",
       "0   4   1   5   1   5   1   5   1   4    1  ...       US           2       1   \n",
       "1   1   5   1   4   2   5   5   4   1    5  ...       CA           2       1   \n",
       "2   1   2   1   1   5   4   3   2   1    4  ...       NL           2       2   \n",
       "3   1   4   1   5   1   4   5   4   3    5  ...       US           2       1   \n",
       "4   5   1   5   1   5   1   5   1   3    1  ...       US           2       1   \n",
       "\n",
       "   age  education  gender  orientation  race  religion  hand  \n",
       "0   22          3       1            1     3         2     3  \n",
       "1   14          1       2            2     6         1     1  \n",
       "2   30          4       1            1     1         1     2  \n",
       "3   18          2       2            5     3         2     2  \n",
       "4   22          3       1            1     3         2     3  \n",
       "\n",
       "[5 rows x 56 columns]"
      ]
     },
     "execution_count": 8,
     "metadata": {},
     "output_type": "execute_result"
    }
   ],
   "source": [
    "df.head()"
   ]
  },
  {
   "cell_type": "markdown",
   "id": "bb26e657",
   "metadata": {},
   "source": [
    "### Calculate and interpret the baseline accuracy rate:"
   ]
  },
  {
   "cell_type": "code",
   "execution_count": 9,
   "id": "89ecc3c6",
   "metadata": {},
   "outputs": [
    {
     "data": {
      "text/plain": [
       "1    3542\n",
       "2     452\n",
       "3     179\n",
       "0      11\n",
       "Name: hand, dtype: int64"
      ]
     },
     "execution_count": 9,
     "metadata": {},
     "output_type": "execute_result"
    }
   ],
   "source": [
    "# \"What hand do you use to write with?\" 1=Right, 2=Left, 3=Both\n",
    "df[\"hand\"].value_counts()"
   ]
  },
  {
   "cell_type": "code",
   "execution_count": 10,
   "id": "9d6fec3a",
   "metadata": {},
   "outputs": [],
   "source": [
    "# Why would we drop zero values?\n",
    "# A: Small % of values and we're not clear on what 0 means. But we think\n",
    "# it's likely a missing value stand-in\n",
    "df = df[df[\"hand\"] != 0]\n",
    "\n",
    "# What about values of 3? Ambidextrous folk\n",
    "# Options: Exclude them, Leave ambi folks in as category of their own,\n",
    "# or combining with another category (#use of left hand or not)"
   ]
  },
  {
   "cell_type": "code",
   "execution_count": 11,
   "id": "652678f8",
   "metadata": {},
   "outputs": [
    {
     "data": {
      "text/plain": [
       "1    3542\n",
       "2     452\n",
       "3     179\n",
       "Name: hand, dtype: int64"
      ]
     },
     "execution_count": 11,
     "metadata": {},
     "output_type": "execute_result"
    }
   ],
   "source": [
    "df[\"hand\"].value_counts()"
   ]
  },
  {
   "cell_type": "code",
   "execution_count": 12,
   "id": "e8282edc",
   "metadata": {},
   "outputs": [
    {
     "data": {
      "text/plain": [
       "gender  hand\n",
       "0       1       73.42\n",
       "        2       20.25\n",
       "        3        6.33\n",
       "1       1       83.58\n",
       "        2       12.26\n",
       "        3        4.17\n",
       "2       1       86.86\n",
       "        2        9.47\n",
       "        3        3.67\n",
       "3       1       80.26\n",
       "        2       10.86\n",
       "        3        8.88\n",
       "Name: hand, dtype: float64"
      ]
     },
     "execution_count": 12,
     "metadata": {},
     "output_type": "execute_result"
    }
   ],
   "source": [
    "df.groupby(\"gender\")[\"hand\"].value_counts(normalize =True).round(4)*100"
   ]
  },
  {
   "cell_type": "code",
   "execution_count": 13,
   "id": "434e1000",
   "metadata": {},
   "outputs": [],
   "source": [
    "# Gender 0 : Missing, Gender 1: Male, Gender 2: Female, Gender 3:Others\n",
    "# Hand: 1 = right handed, 2 = left handed, 3 = ambidextrous(both)."
   ]
  },
  {
   "cell_type": "markdown",
   "id": "baa13b11",
   "metadata": {},
   "source": [
    "Male have a slightly higher left-handed proportion at 12.26% to female at 9.47%."
   ]
  },
  {
   "cell_type": "markdown",
   "id": "cb9bfd19",
   "metadata": {},
   "source": [
    "### Our assumption is that ambidextrous are left handed that are forced to use both from culture norm."
   ]
  },
  {
   "cell_type": "code",
   "execution_count": 14,
   "id": "72d9ec84",
   "metadata": {},
   "outputs": [],
   "source": [
    "# For simplicity, this model would group ambidextrous both hand as left hand.\n",
    "df[\"hand\"] = df[\"hand\"].map({1:0,2:1,3:1})"
   ]
  },
  {
   "cell_type": "code",
   "execution_count": 15,
   "id": "6b7f3e37",
   "metadata": {},
   "outputs": [
    {
     "data": {
      "text/plain": [
       "gender  hand\n",
       "0       0       73.42\n",
       "        1       26.58\n",
       "1       0       83.58\n",
       "        1       16.42\n",
       "2       0       86.86\n",
       "        1       13.14\n",
       "3       0       80.26\n",
       "        1       19.74\n",
       "Name: hand, dtype: float64"
      ]
     },
     "execution_count": 15,
     "metadata": {},
     "output_type": "execute_result"
    }
   ],
   "source": [
    "df.groupby(\"gender\")[\"hand\"].value_counts(normalize =True).round(4)*100"
   ]
  },
  {
   "cell_type": "code",
   "execution_count": 16,
   "id": "d0024b37",
   "metadata": {},
   "outputs": [
    {
     "data": {
      "text/plain": [
       "0    84.878984\n",
       "1    15.121016\n",
       "Name: hand, dtype: float64"
      ]
     },
     "execution_count": 16,
     "metadata": {},
     "output_type": "execute_result"
    }
   ],
   "source": [
    "df[\"hand\"].value_counts(normalize=True)*100"
   ]
  },
  {
   "cell_type": "markdown",
   "id": "b9758e0e",
   "metadata": {},
   "source": [
    "#### Code to answer these questions?\n",
    "1. Does a left-handed person play more video games than a right-handed person?\n",
    "2. Does a left-handed person work harder in school than a right-handed person?\n",
    "2. Is left-handedness more common in males than females?"
   ]
  },
  {
   "cell_type": "code",
   "execution_count": 17,
   "id": "be041829",
   "metadata": {},
   "outputs": [
    {
     "data": {
      "text/plain": [
       "hand\n",
       "0    346.36\n",
       "1    348.97\n",
       "Name: Q37, dtype: float64"
      ]
     },
     "execution_count": 17,
     "metadata": {},
     "output_type": "execute_result"
    }
   ],
   "source": [
    "# Q37. I have played a lot of video games.\n",
    "df.groupby(\"hand\")[\"Q37\"].mean().round(4)*100 "
   ]
  },
  {
   "cell_type": "markdown",
   "id": "0b1d6e57",
   "metadata": {},
   "source": [
    "A left-handed person on average play more video games than a right-handed person."
   ]
  },
  {
   "cell_type": "code",
   "execution_count": 18,
   "id": "976d2f51",
   "metadata": {},
   "outputs": [
    {
     "data": {
      "text/plain": [
       "hand\n",
       "0    274.28\n",
       "1    278.61\n",
       "Name: Q11, dtype: float64"
      ]
     },
     "execution_count": 18,
     "metadata": {},
     "output_type": "execute_result"
    }
   ],
   "source": [
    "# Q11. I did not work very hard in school.\n",
    "df.groupby(\"hand\")[\"Q11\"].mean().round(4)*100 "
   ]
  },
  {
   "cell_type": "markdown",
   "id": "51714149",
   "metadata": {},
   "source": [
    "A left-handed person on average work less than a right-handed person in school."
   ]
  },
  {
   "cell_type": "code",
   "execution_count": 19,
   "id": "3efbae37",
   "metadata": {},
   "outputs": [
    {
     "data": {
      "text/plain": [
       "gender  hand\n",
       "0       0       73.42\n",
       "        1       26.58\n",
       "1       0       83.58\n",
       "        1       16.42\n",
       "2       0       86.86\n",
       "        1       13.14\n",
       "3       0       80.26\n",
       "        1       19.74\n",
       "Name: hand, dtype: float64"
      ]
     },
     "execution_count": 19,
     "metadata": {},
     "output_type": "execute_result"
    }
   ],
   "source": [
    "df.groupby(\"gender\")[\"hand\"].value_counts(normalize =True).round(4)*100"
   ]
  },
  {
   "cell_type": "markdown",
   "id": "85c12ae7",
   "metadata": {},
   "source": [
    "Left-handedness is more common in males than females. Yet, left-handed is more likely in the \"other\" gender than the typical gender role."
   ]
  },
  {
   "cell_type": "markdown",
   "id": "2016bb4e",
   "metadata": {},
   "source": [
    "### Short answer questions:\n",
    "\n",
    "In this lab you'll use K-nearest neighbors and logistic regression to model handedness based off of psychological factors. Answer the following related questions; your answers may be in bullet points.\n",
    "\n",
    "#### Describe the difference between regression and classification problems:"
   ]
  },
  {
   "cell_type": "code",
   "execution_count": 20,
   "id": "6f53971e",
   "metadata": {},
   "outputs": [],
   "source": [
    "# Regression predicts continuous numeric target values.\n",
    "\n",
    "# Classification predicts the discrete or categories,\n",
    "# sometime binary or multiclass data. "
   ]
  },
  {
   "cell_type": "markdown",
   "id": "b7469aee",
   "metadata": {},
   "source": [
    "#### Considering $k$-nearest neighbors, describe the relationship between $k$ and the bias-variance tradeoff:"
   ]
  },
  {
   "cell_type": "code",
   "execution_count": 21,
   "id": "a758c2c6",
   "metadata": {},
   "outputs": [],
   "source": [
    "# high bias -> underfitting\n",
    "# high variance -> overfitting\n",
    "\n",
    "# k is the number of neighbors that help kNN identify which class label\n",
    "# a data point would belong in\n",
    "\n",
    "# The relationship between k and bias-variance tradeoff is \n",
    "# the smaller k would result in low bias and high variance (overfitted).\n",
    "# the larger k would result in high bias and low variance (underfitted).\n",
    "\n",
    "# we need to adjust number of k to optimal number -> \"the sweet spot\"\n",
    "# "
   ]
  },
  {
   "cell_type": "markdown",
   "id": "7bdc66d6",
   "metadata": {},
   "source": [
    "#### Why do we often standardize predictor variables when using $k$-nearest neighbors?"
   ]
  },
  {
   "cell_type": "code",
   "execution_count": 22,
   "id": "a175b54e",
   "metadata": {},
   "outputs": [],
   "source": [
    "# predictor variables -> features or X\n",
    "# kNN is distance based algorithm and scale/magnitude of features\n",
    "# impacts performance and output.\n",
    "\n",
    "# Standardization (StandardScaler) ->\n",
    "# rescale values in the features columns to have\n",
    "# each column possess a mean of zero and std of 1."
   ]
  },
  {
   "cell_type": "markdown",
   "id": "4ad52536",
   "metadata": {},
   "source": [
    "#### Do you think we should standardize the explanatory variables for this problem? Why or why not?"
   ]
  },
  {
   "cell_type": "code",
   "execution_count": 23,
   "id": "71ccc6f2",
   "metadata": {},
   "outputs": [],
   "source": [
    "# explanatory variables -> features or X\n",
    "\n",
    "# Possibly not because the explanatory variables are \n",
    "# already in the same unit/scale of 1 to 5. \n",
    "\n",
    "# We need to scale if the units are different."
   ]
  },
  {
   "cell_type": "markdown",
   "id": "1cf6e09f",
   "metadata": {},
   "source": [
    "#### How do we settle on $k$ for a $k$-nearest neighbors model?"
   ]
  },
  {
   "cell_type": "code",
   "execution_count": 24,
   "id": "0c8aa87d",
   "metadata": {},
   "outputs": [],
   "source": [
    "# Options\n",
    "\n",
    "# 1. Use the default\n",
    "# 2. Guess\n",
    "# 3. Loop/iterate through a range of k options and select the\n",
    "#    optimal one based on score.\n",
    "\n",
    "# We find the optimal k by iterate over number of k to find the \n",
    "# low bias and variance using cross validation techniques."
   ]
  },
  {
   "cell_type": "markdown",
   "id": "958fe4a8",
   "metadata": {},
   "source": [
    "#### What is the default type of regularization for logistic regression as implemented in scikit-learn? (You might [check the documentation](https://scikit-learn.org/stable/modules/generated/sklearn.linear_model.LogisticRegression.html).)"
   ]
  },
  {
   "cell_type": "code",
   "execution_count": 25,
   "id": "b49dadcf",
   "metadata": {},
   "outputs": [],
   "source": [
    "# L2 or Ridge is the default regularization for logistic regression."
   ]
  },
  {
   "cell_type": "markdown",
   "id": "f4b117e3",
   "metadata": {},
   "source": [
    "#### Describe the relationship between the scikit-learn `LogisticRegression` argument `C` and regularization strength: (You might [check the documentation](https://scikit-learn.org/stable/modules/generated/sklearn.linear_model.LogisticRegression.html).)"
   ]
  },
  {
   "cell_type": "code",
   "execution_count": 26,
   "id": "d0bece7f",
   "metadata": {},
   "outputs": [],
   "source": [
    "# Logistic Regression argument C is inverse relationship with regularization strength.\n",
    "# The smaller values specify stronger regularization.\n",
    "\n",
    "# C = 1/ alpha\n",
    "# alpha = 1 -> C = 1\n",
    "# alpha = 0.1 -> C = 10\n",
    "\n",
    "# What does a higher C mean? Less regularization\n",
    "# What does a lower C mean? MORE regularization"
   ]
  },
  {
   "cell_type": "markdown",
   "id": "4f19a574",
   "metadata": {},
   "source": [
    "#### Describe the relationship between regularization strength and the bias-variance tradeoff:"
   ]
  },
  {
   "cell_type": "code",
   "execution_count": 27,
   "id": "82c2edec",
   "metadata": {},
   "outputs": [],
   "source": [
    "# Why and when do we regularize?\n",
    "\n",
    "# Why? Avoid error due to high variance (overfitting)\n",
    "# When? High model complexity which is causing overfitting.\n",
    "\n",
    "# C is high --> less regularization -> more prone to overfitting\n",
    "# C is low --> MORE regularization -> less prone to overfitting and \n",
    "# if overdone, can lead to underfitting.\n",
    "\n",
    "\n",
    "# Regularization strength have positive relationship with bias.\n",
    "# Regularization strength have inverse relationship with variance.\n",
    "\n",
    "# Zero to low regularization strength tends to have low bias and high variance.\n",
    "# High regularization strength tends to have high bias and low variance.\n",
    "\n",
    "# Moderate regularization strength tends to have the best results."
   ]
  },
  {
   "cell_type": "code",
   "execution_count": 28,
   "id": "35fb240d",
   "metadata": {},
   "outputs": [],
   "source": [
    "# Don't regularize unless you need to.\n",
    "# Turn penalty off."
   ]
  },
  {
   "cell_type": "markdown",
   "id": "7089674d",
   "metadata": {},
   "source": [
    "#### Logistic regression is considered more interpretable than $k$-nearest neighbors. Explain why."
   ]
  },
  {
   "cell_type": "code",
   "execution_count": 29,
   "id": "cf94e95b",
   "metadata": {},
   "outputs": [],
   "source": [
    "# Interpretable?\n",
    "# Logistic regression have coefficients (statistical parameter) a.k.a. betas\n",
    "# which can be used for explaination of the impacts of the factors while\n",
    "# kNN is non-parametric and has no coefficients or statistical parameters.\n",
    "\n",
    "# Explainable to non-technical individual?\n",
    "# Conceptually, kNN isn't too hard to explain to a wide audience.\n",
    "\n",
    "# Explaining relationships in a meaningful and actionable way?\n",
    "# kNN fails and LogReg is better."
   ]
  },
  {
   "cell_type": "markdown",
   "id": "00360fc0",
   "metadata": {},
   "source": [
    "---\n",
    "\n",
    "## Step 4 & 5 Modeling: $k$-nearest neighbors\n",
    "\n",
    "### Train-test split your data:\n",
    "\n",
    "Your explanatory variables (X) should be everything except hand.\n",
    "Your target variable (y) is hand. 1 = right handed, 2 = left handed, 3 = ambidextrous(both)."
   ]
  },
  {
   "cell_type": "code",
   "execution_count": 30,
   "id": "7239cca8",
   "metadata": {},
   "outputs": [
    {
     "data": {
      "text/html": [
       "<div>\n",
       "<style scoped>\n",
       "    .dataframe tbody tr th:only-of-type {\n",
       "        vertical-align: middle;\n",
       "    }\n",
       "\n",
       "    .dataframe tbody tr th {\n",
       "        vertical-align: top;\n",
       "    }\n",
       "\n",
       "    .dataframe thead th {\n",
       "        text-align: right;\n",
       "    }\n",
       "</style>\n",
       "<table border=\"1\" class=\"dataframe\">\n",
       "  <thead>\n",
       "    <tr style=\"text-align: right;\">\n",
       "      <th></th>\n",
       "      <th>Q1</th>\n",
       "      <th>Q2</th>\n",
       "      <th>Q3</th>\n",
       "      <th>Q4</th>\n",
       "      <th>Q5</th>\n",
       "      <th>Q6</th>\n",
       "      <th>Q7</th>\n",
       "      <th>Q8</th>\n",
       "      <th>Q9</th>\n",
       "      <th>Q10</th>\n",
       "      <th>...</th>\n",
       "      <th>country</th>\n",
       "      <th>fromgoogle</th>\n",
       "      <th>engnat</th>\n",
       "      <th>age</th>\n",
       "      <th>education</th>\n",
       "      <th>gender</th>\n",
       "      <th>orientation</th>\n",
       "      <th>race</th>\n",
       "      <th>religion</th>\n",
       "      <th>hand</th>\n",
       "    </tr>\n",
       "  </thead>\n",
       "  <tbody>\n",
       "    <tr>\n",
       "      <th>0</th>\n",
       "      <td>4</td>\n",
       "      <td>1</td>\n",
       "      <td>5</td>\n",
       "      <td>1</td>\n",
       "      <td>5</td>\n",
       "      <td>1</td>\n",
       "      <td>5</td>\n",
       "      <td>1</td>\n",
       "      <td>4</td>\n",
       "      <td>1</td>\n",
       "      <td>...</td>\n",
       "      <td>US</td>\n",
       "      <td>2</td>\n",
       "      <td>1</td>\n",
       "      <td>22</td>\n",
       "      <td>3</td>\n",
       "      <td>1</td>\n",
       "      <td>1</td>\n",
       "      <td>3</td>\n",
       "      <td>2</td>\n",
       "      <td>1</td>\n",
       "    </tr>\n",
       "    <tr>\n",
       "      <th>1</th>\n",
       "      <td>1</td>\n",
       "      <td>5</td>\n",
       "      <td>1</td>\n",
       "      <td>4</td>\n",
       "      <td>2</td>\n",
       "      <td>5</td>\n",
       "      <td>5</td>\n",
       "      <td>4</td>\n",
       "      <td>1</td>\n",
       "      <td>5</td>\n",
       "      <td>...</td>\n",
       "      <td>CA</td>\n",
       "      <td>2</td>\n",
       "      <td>1</td>\n",
       "      <td>14</td>\n",
       "      <td>1</td>\n",
       "      <td>2</td>\n",
       "      <td>2</td>\n",
       "      <td>6</td>\n",
       "      <td>1</td>\n",
       "      <td>0</td>\n",
       "    </tr>\n",
       "    <tr>\n",
       "      <th>2</th>\n",
       "      <td>1</td>\n",
       "      <td>2</td>\n",
       "      <td>1</td>\n",
       "      <td>1</td>\n",
       "      <td>5</td>\n",
       "      <td>4</td>\n",
       "      <td>3</td>\n",
       "      <td>2</td>\n",
       "      <td>1</td>\n",
       "      <td>4</td>\n",
       "      <td>...</td>\n",
       "      <td>NL</td>\n",
       "      <td>2</td>\n",
       "      <td>2</td>\n",
       "      <td>30</td>\n",
       "      <td>4</td>\n",
       "      <td>1</td>\n",
       "      <td>1</td>\n",
       "      <td>1</td>\n",
       "      <td>1</td>\n",
       "      <td>1</td>\n",
       "    </tr>\n",
       "    <tr>\n",
       "      <th>3</th>\n",
       "      <td>1</td>\n",
       "      <td>4</td>\n",
       "      <td>1</td>\n",
       "      <td>5</td>\n",
       "      <td>1</td>\n",
       "      <td>4</td>\n",
       "      <td>5</td>\n",
       "      <td>4</td>\n",
       "      <td>3</td>\n",
       "      <td>5</td>\n",
       "      <td>...</td>\n",
       "      <td>US</td>\n",
       "      <td>2</td>\n",
       "      <td>1</td>\n",
       "      <td>18</td>\n",
       "      <td>2</td>\n",
       "      <td>2</td>\n",
       "      <td>5</td>\n",
       "      <td>3</td>\n",
       "      <td>2</td>\n",
       "      <td>1</td>\n",
       "    </tr>\n",
       "    <tr>\n",
       "      <th>4</th>\n",
       "      <td>5</td>\n",
       "      <td>1</td>\n",
       "      <td>5</td>\n",
       "      <td>1</td>\n",
       "      <td>5</td>\n",
       "      <td>1</td>\n",
       "      <td>5</td>\n",
       "      <td>1</td>\n",
       "      <td>3</td>\n",
       "      <td>1</td>\n",
       "      <td>...</td>\n",
       "      <td>US</td>\n",
       "      <td>2</td>\n",
       "      <td>1</td>\n",
       "      <td>22</td>\n",
       "      <td>3</td>\n",
       "      <td>1</td>\n",
       "      <td>1</td>\n",
       "      <td>3</td>\n",
       "      <td>2</td>\n",
       "      <td>1</td>\n",
       "    </tr>\n",
       "  </tbody>\n",
       "</table>\n",
       "<p>5 rows × 56 columns</p>\n",
       "</div>"
      ],
      "text/plain": [
       "   Q1  Q2  Q3  Q4  Q5  Q6  Q7  Q8  Q9  Q10  ...  country  fromgoogle  engnat  \\\n",
       "0   4   1   5   1   5   1   5   1   4    1  ...       US           2       1   \n",
       "1   1   5   1   4   2   5   5   4   1    5  ...       CA           2       1   \n",
       "2   1   2   1   1   5   4   3   2   1    4  ...       NL           2       2   \n",
       "3   1   4   1   5   1   4   5   4   3    5  ...       US           2       1   \n",
       "4   5   1   5   1   5   1   5   1   3    1  ...       US           2       1   \n",
       "\n",
       "   age  education  gender  orientation  race  religion  hand  \n",
       "0   22          3       1            1     3         2     1  \n",
       "1   14          1       2            2     6         1     0  \n",
       "2   30          4       1            1     1         1     1  \n",
       "3   18          2       2            5     3         2     1  \n",
       "4   22          3       1            1     3         2     1  \n",
       "\n",
       "[5 rows x 56 columns]"
      ]
     },
     "execution_count": 30,
     "metadata": {},
     "output_type": "execute_result"
    }
   ],
   "source": [
    "df.head()"
   ]
  },
  {
   "cell_type": "code",
   "execution_count": 31,
   "id": "6a1aa585",
   "metadata": {},
   "outputs": [
    {
     "data": {
      "text/plain": [
       "Index(['Q1', 'Q2', 'Q3', 'Q4', 'Q5', 'Q6', 'Q7', 'Q8', 'Q9', 'Q10', 'Q11',\n",
       "       'Q12', 'Q13', 'Q14', 'Q15', 'Q16', 'Q17', 'Q18', 'Q19', 'Q20', 'Q21',\n",
       "       'Q22', 'Q23', 'Q24', 'Q25', 'Q26', 'Q27', 'Q28', 'Q29', 'Q30', 'Q31',\n",
       "       'Q32', 'Q33', 'Q34', 'Q35', 'Q36', 'Q37', 'Q38', 'Q39', 'Q40', 'Q41',\n",
       "       'Q42', 'Q43', 'Q44', 'introelapse', 'testelapse', 'country',\n",
       "       'fromgoogle', 'engnat', 'age', 'education', 'gender', 'orientation',\n",
       "       'race', 'religion', 'hand'],\n",
       "      dtype='object')"
      ]
     },
     "execution_count": 31,
     "metadata": {},
     "output_type": "execute_result"
    }
   ],
   "source": [
    "df.columns"
   ]
  },
  {
   "cell_type": "code",
   "execution_count": 32,
   "id": "59ef8404",
   "metadata": {},
   "outputs": [
    {
     "data": {
      "text/plain": [
       "44"
      ]
     },
     "execution_count": 32,
     "metadata": {},
     "output_type": "execute_result"
    }
   ],
   "source": [
    "features = [col for col in df if \"Q\" in col]\n",
    "len(features)"
   ]
  },
  {
   "cell_type": "code",
   "execution_count": 33,
   "id": "e21458c2",
   "metadata": {},
   "outputs": [],
   "source": [
    "X = df[features]\n",
    "y = df[\"hand\"]"
   ]
  },
  {
   "cell_type": "code",
   "execution_count": 34,
   "id": "c8ca2ac2",
   "metadata": {},
   "outputs": [],
   "source": [
    "# X_drop = ['introelapse', 'testelapse', 'country',\n",
    "#        'fromgoogle', 'engnat', 'age', 'education', 'gender', 'orientation',\n",
    "#        'race', 'religion', 'hand']\n",
    "# X = df.drop(columns = X_drop)\n",
    "# y = df[\"hand\"]"
   ]
  },
  {
   "cell_type": "code",
   "execution_count": 35,
   "id": "c12b6aa8",
   "metadata": {},
   "outputs": [],
   "source": [
    "# X before y, train before test\n",
    "X_train, X_test, y_train, y_test = train_test_split(X,y,\n",
    "                                                    random_state= 42,\n",
    "                                                    stratify= y )\n",
    "# We might want to stratify anyways due to imbalance class could magnify the difference."
   ]
  },
  {
   "cell_type": "code",
   "execution_count": 36,
   "id": "eb32694a",
   "metadata": {},
   "outputs": [
    {
     "data": {
      "text/plain": [
       "0    84.883349\n",
       "1    15.116651\n",
       "Name: hand, dtype: float64"
      ]
     },
     "execution_count": 36,
     "metadata": {},
     "output_type": "execute_result"
    }
   ],
   "source": [
    "# Checking the distribution of class labels in y_train\n",
    "# and y_test to see if we want to stratify when splitting the data\n",
    "y_train.value_counts(normalize=True)*100"
   ]
  },
  {
   "cell_type": "code",
   "execution_count": 37,
   "id": "975d42c5",
   "metadata": {},
   "outputs": [
    {
     "data": {
      "text/plain": [
       "0    84.8659\n",
       "1    15.1341\n",
       "Name: hand, dtype: float64"
      ]
     },
     "execution_count": 37,
     "metadata": {},
     "output_type": "execute_result"
    }
   ],
   "source": [
    "y_test.value_counts(normalize=True)*100"
   ]
  },
  {
   "cell_type": "code",
   "execution_count": 38,
   "id": "3776b4b4",
   "metadata": {},
   "outputs": [
    {
     "name": "stdout",
     "output_type": "stream",
     "text": [
      "(3129, 44) (1044, 44) (3129,) (1044,)\n"
     ]
    }
   ],
   "source": [
    "print(X_train.shape, X_test.shape, y_train.shape, y_test.shape)"
   ]
  },
  {
   "cell_type": "markdown",
   "id": "772f7e27",
   "metadata": {},
   "source": [
    "#### Create and fit four separate $k$-nearest neighbors models: one with $k = 3$, one with $k = 5$, one with $k = 15$, and one with $k = 25$:"
   ]
  },
  {
   "cell_type": "code",
   "execution_count": 39,
   "id": "0eaa73e0",
   "metadata": {},
   "outputs": [
    {
     "data": {
      "text/plain": [
       "KNeighborsClassifier(n_neighbors=25)"
      ]
     },
     "execution_count": 39,
     "metadata": {},
     "output_type": "execute_result"
    }
   ],
   "source": [
    "# Instantiate models one by one\n",
    "knn3 = KNeighborsClassifier(n_neighbors= 3)\n",
    "knn5 = KNeighborsClassifier(n_neighbors= 5)\n",
    "knn15 = KNeighborsClassifier(n_neighbors= 15)\n",
    "knn25 = KNeighborsClassifier(n_neighbors= 25)\n",
    "\n",
    "# Train or Fit models\n",
    "knn3.fit(X_train,y_train)\n",
    "knn5.fit(X_train,y_train)\n",
    "knn15.fit(X_train,y_train)\n",
    "knn25.fit(X_train,y_train)"
   ]
  },
  {
   "cell_type": "code",
   "execution_count": 40,
   "id": "e9505501",
   "metadata": {},
   "outputs": [],
   "source": [
    "k_scores = pd.DataFrame(columns= [\"k\", \"train_score\", \"test_score\",\n",
    "                                  \"preds_one\"])\n",
    "\n",
    "for n, k in enumerate([3,5,15,25]):\n",
    "    knn = KNeighborsClassifier(n_neighbors=k)\n",
    "    knn.fit(X_train, y_train)\n",
    "    y_preds = knn.predict(X_test)\n",
    "    minority_class_preds = y_preds == 1\n",
    "    preds_one = pd.Series(minority_class_preds).sum()\n",
    "    train_score = knn.score(X_train, y_train)\n",
    "    test_score = knn.score(X_test, y_test)\n",
    "    k_scores.loc[n] = [k,train_score,test_score,preds_one]"
   ]
  },
  {
   "cell_type": "code",
   "execution_count": 41,
   "id": "7aab911a",
   "metadata": {},
   "outputs": [
    {
     "data": {
      "text/html": [
       "<div>\n",
       "<style scoped>\n",
       "    .dataframe tbody tr th:only-of-type {\n",
       "        vertical-align: middle;\n",
       "    }\n",
       "\n",
       "    .dataframe tbody tr th {\n",
       "        vertical-align: top;\n",
       "    }\n",
       "\n",
       "    .dataframe thead th {\n",
       "        text-align: right;\n",
       "    }\n",
       "</style>\n",
       "<table border=\"1\" class=\"dataframe\">\n",
       "  <thead>\n",
       "    <tr style=\"text-align: right;\">\n",
       "      <th></th>\n",
       "      <th>k</th>\n",
       "      <th>train_score</th>\n",
       "      <th>test_score</th>\n",
       "      <th>preds_one</th>\n",
       "    </tr>\n",
       "  </thead>\n",
       "  <tbody>\n",
       "    <tr>\n",
       "      <th>0</th>\n",
       "      <td>3.0</td>\n",
       "      <td>0.871844</td>\n",
       "      <td>0.799808</td>\n",
       "      <td>79.0</td>\n",
       "    </tr>\n",
       "    <tr>\n",
       "      <th>1</th>\n",
       "      <td>5.0</td>\n",
       "      <td>0.849792</td>\n",
       "      <td>0.836207</td>\n",
       "      <td>33.0</td>\n",
       "    </tr>\n",
       "    <tr>\n",
       "      <th>2</th>\n",
       "      <td>15.0</td>\n",
       "      <td>0.849792</td>\n",
       "      <td>0.849617</td>\n",
       "      <td>1.0</td>\n",
       "    </tr>\n",
       "    <tr>\n",
       "      <th>3</th>\n",
       "      <td>25.0</td>\n",
       "      <td>0.848833</td>\n",
       "      <td>0.848659</td>\n",
       "      <td>0.0</td>\n",
       "    </tr>\n",
       "  </tbody>\n",
       "</table>\n",
       "</div>"
      ],
      "text/plain": [
       "      k  train_score  test_score  preds_one\n",
       "0   3.0     0.871844    0.799808       79.0\n",
       "1   5.0     0.849792    0.836207       33.0\n",
       "2  15.0     0.849792    0.849617        1.0\n",
       "3  25.0     0.848833    0.848659        0.0"
      ]
     },
     "execution_count": 41,
     "metadata": {},
     "output_type": "execute_result"
    }
   ],
   "source": [
    "k_scores\n",
    "# the model predict the majority class"
   ]
  },
  {
   "cell_type": "code",
   "execution_count": 42,
   "id": "013c60f1",
   "metadata": {},
   "outputs": [
    {
     "data": {
      "text/plain": [
       "array([[886,   0],\n",
       "       [158,   0]], dtype=int64)"
      ]
     },
     "execution_count": 42,
     "metadata": {},
     "output_type": "execute_result"
    }
   ],
   "source": [
    "from sklearn.metrics import confusion_matrix\n",
    "\n",
    "cm = confusion_matrix(y_test,y_preds)\n",
    "cm"
   ]
  },
  {
   "cell_type": "markdown",
   "id": "6ea6f202",
   "metadata": {},
   "source": [
    "### Evaluate your models:\n",
    "\n",
    "Evaluate each of your four models on the training and testing sets, and interpret the four scores. Are any of your models overfit or underfit? Do any of your models beat the baseline accuracy rate?"
   ]
  },
  {
   "cell_type": "code",
   "execution_count": 43,
   "id": "aa7718b1",
   "metadata": {},
   "outputs": [],
   "source": [
    "# Any of our kNN models overfit? No\n",
    "# Any of our kNN models underfit? Not necessarily, but \n",
    "# the higher k test scores are the baseline accuracy\n",
    "# Appears good on majority, bad on minority class\n",
    "\n",
    "# The challenge here is not so much the algorithm or the # of k\n",
    "# but the imbalanced class split along with a tenuous likely\n",
    "# relationship between X and y"
   ]
  },
  {
   "cell_type": "code",
   "execution_count": 44,
   "id": "304a226a",
   "metadata": {},
   "outputs": [
    {
     "data": {
      "text/plain": [
       "84.87898394440451"
      ]
     },
     "execution_count": 44,
     "metadata": {},
     "output_type": "execute_result"
    }
   ],
   "source": [
    "# The baseline accuracy\n",
    "# If the algorithm just selected the majority for each of its\n",
    "# prediction of y\n",
    "# Algorithmic equivalent --> DummyClassifer set to `most_frequent`\n",
    "y.value_counts(normalize=True).mul(100)[0]"
   ]
  },
  {
   "cell_type": "code",
   "execution_count": 45,
   "id": "cd986037",
   "metadata": {},
   "outputs": [
    {
     "data": {
      "text/plain": [
       "84.86590038314176"
      ]
     },
     "execution_count": 45,
     "metadata": {},
     "output_type": "execute_result"
    }
   ],
   "source": [
    "y_test.value_counts(normalize=True).mul(100)[0]"
   ]
  },
  {
   "cell_type": "markdown",
   "id": "aab77120",
   "metadata": {},
   "source": [
    "## Options\n",
    "\n",
    "#### Addressing the class label imbalance (switching k at 90/10 split made no significant difference in models preditive accuracy)\n",
    "\n",
    "#### Find more left-handed people to survey\n",
    "#### Oversampling the minority class\n",
    "#### Undersampling the majority class\n",
    "#### A bit of both (SMOTE) --> Synthetic Minority Over-Sampling Technique\n",
    "Algorithmically increase the number of your cases in your dataset in a more balanced way"
   ]
  },
  {
   "cell_type": "code",
   "execution_count": 46,
   "id": "a41192bf",
   "metadata": {},
   "outputs": [
    {
     "name": "stdout",
     "output_type": "stream",
     "text": [
      "Train Score: 0.8718440396292745\n",
      "Test Score: 0.7998084291187739\n"
     ]
    },
    {
     "data": {
      "text/plain": [
       "array([[821,  65],\n",
       "       [144,  14]], dtype=int64)"
      ]
     },
     "execution_count": 46,
     "metadata": {},
     "output_type": "execute_result"
    }
   ],
   "source": [
    "# Model 1: kNN (n=3)\n",
    "print(f\"Train Score: {knn3.score(X_train,y_train)}\")\n",
    "print(f\"Test Score: {knn3.score(X_test,y_test)}\")\n",
    "y_preds = knn3.predict(X_test)\n",
    "cm = confusion_matrix(y_test,y_preds)\n",
    "cm"
   ]
  },
  {
   "cell_type": "code",
   "execution_count": 47,
   "id": "c2426665",
   "metadata": {},
   "outputs": [
    {
     "name": "stdout",
     "output_type": "stream",
     "text": [
      "Train Score: 0.8497922658996484\n",
      "Test Score: 0.8362068965517241\n"
     ]
    },
    {
     "data": {
      "text/plain": [
       "array([[863,  23],\n",
       "       [148,  10]], dtype=int64)"
      ]
     },
     "execution_count": 47,
     "metadata": {},
     "output_type": "execute_result"
    }
   ],
   "source": [
    "# Model 2: kNN (n=5)\n",
    "print(f\"Train Score: {knn5.score(X_train,y_train)}\")\n",
    "print(f\"Test Score: {knn5.score(X_test,y_test)}\")\n",
    "y_preds = knn5.predict(X_test)\n",
    "cm = confusion_matrix(y_test,y_preds)\n",
    "cm"
   ]
  },
  {
   "cell_type": "code",
   "execution_count": 48,
   "id": "1de73199",
   "metadata": {},
   "outputs": [
    {
     "name": "stdout",
     "output_type": "stream",
     "text": [
      "Train Score: 0.8497922658996484\n",
      "Test Score: 0.8496168582375478\n"
     ]
    },
    {
     "data": {
      "text/plain": [
       "array([[886,   0],\n",
       "       [157,   1]], dtype=int64)"
      ]
     },
     "execution_count": 48,
     "metadata": {},
     "output_type": "execute_result"
    }
   ],
   "source": [
    "# Model 3: kNN (n=15)\n",
    "print(f\"Train Score: {knn15.score(X_train,y_train)}\")\n",
    "print(f\"Test Score: {knn15.score(X_test,y_test)}\")\n",
    "y_preds = knn15.predict(X_test)\n",
    "cm = confusion_matrix(y_test,y_preds)\n",
    "cm"
   ]
  },
  {
   "cell_type": "code",
   "execution_count": 49,
   "id": "4d1d5a29",
   "metadata": {},
   "outputs": [
    {
     "name": "stdout",
     "output_type": "stream",
     "text": [
      "Train Score: 0.8488334931287952\n",
      "Test Score: 0.8486590038314177\n"
     ]
    },
    {
     "data": {
      "text/plain": [
       "array([[886,   0],\n",
       "       [158,   0]], dtype=int64)"
      ]
     },
     "execution_count": 49,
     "metadata": {},
     "output_type": "execute_result"
    }
   ],
   "source": [
    "# Model 4: kNN (n=25)\n",
    "print(f\"Train Score: {knn25.score(X_train,y_train)}\")\n",
    "print(f\"Test Score: {knn25.score(X_test,y_test)}\")\n",
    "y_preds = knn25.predict(X_test)\n",
    "cm = confusion_matrix(y_test,y_preds)\n",
    "cm"
   ]
  },
  {
   "cell_type": "code",
   "execution_count": 50,
   "id": "fc48ac91",
   "metadata": {},
   "outputs": [
    {
     "data": {
      "text/plain": [
       "0.0009578544061301653"
      ]
     },
     "execution_count": 50,
     "metadata": {},
     "output_type": "execute_result"
    }
   ],
   "source": [
    "# kNN (n = 15) have same test score to kNN (n = 25)\n",
    "knn15.score(X_test,y_test) - knn25.score(X_test,y_test)"
   ]
  },
  {
   "cell_type": "markdown",
   "id": "8488dc25",
   "metadata": {},
   "source": [
    "---\n",
    "\n",
    "## Step 4 & 5 Modeling: logistic regression\n",
    "\n",
    "#### Create and fit four separate logistic regression models: one with LASSO and $\\alpha = 1$, one with LASSO and $\\alpha = 10$, one with Ridge and $\\alpha = 1$, and one with Ridge and $\\alpha = 10$. *(Hint: Be careful with how you specify $\\alpha$ in your model!)*\n",
    "\n",
    "Note: You can use the same train and test data as above."
   ]
  },
  {
   "cell_type": "code",
   "execution_count": 51,
   "id": "fe96a2d4",
   "metadata": {},
   "outputs": [
    {
     "data": {
      "text/plain": [
       "LogisticRegression(C=0.1, max_iter=1000)"
      ]
     },
     "execution_count": 51,
     "metadata": {},
     "output_type": "execute_result"
    }
   ],
   "source": [
    "# Instantiate models\n",
    "# L1 : Lasso, L2 : Ridge\n",
    "logreg = LogisticRegression(max_iter=1000)\n",
    "lasso1 = LogisticRegression(C=1, penalty='l1', solver='liblinear')\n",
    "lasso10 = LogisticRegression(C=0.10, penalty='l1', solver='liblinear')\n",
    "ridge1 = LogisticRegression(C=1, penalty = \"l2\", max_iter=1000)\n",
    "ridge10 = LogisticRegression(C=0.10, penalty = \"l2\", max_iter=1000)\n",
    "\n",
    "# Train or fit model\n",
    "logreg.fit(X_train,y_train)\n",
    "lasso1.fit(X_train,y_train)\n",
    "lasso10.fit(X_train,y_train)\n",
    "ridge1.fit(X_train,y_train)\n",
    "ridge10.fit(X_train,y_train)"
   ]
  },
  {
   "cell_type": "markdown",
   "id": "703eecea",
   "metadata": {},
   "source": [
    "### Evaluate your models:\n",
    "\n",
    "Evaluate each of your four models on the training and testing sets, and interpret the four scores. Are any of your models overfit or underfit? Do any of your models beat the baseline accuracy rate?"
   ]
  },
  {
   "cell_type": "code",
   "execution_count": 52,
   "id": "d42c9ea7",
   "metadata": {},
   "outputs": [
    {
     "name": "stdout",
     "output_type": "stream",
     "text": [
      "Train Score: 0.8488334931287952\n",
      "Test Score: 0.8486590038314177\n"
     ]
    },
    {
     "data": {
      "text/plain": [
       "array([[886,   0],\n",
       "       [158,   0]], dtype=int64)"
      ]
     },
     "execution_count": 52,
     "metadata": {},
     "output_type": "execute_result"
    }
   ],
   "source": [
    "# Model 1: Lasso (l1, alpha = 1)\n",
    "print(f\"Train Score: {lasso1.score(X_train,y_train)}\")\n",
    "print(f\"Test Score: {lasso1.score(X_test,y_test)}\")\n",
    "y_preds = lasso1.predict(X_test)\n",
    "cm = confusion_matrix(y_test,y_preds)\n",
    "cm"
   ]
  },
  {
   "cell_type": "code",
   "execution_count": 53,
   "id": "972e51e3",
   "metadata": {},
   "outputs": [
    {
     "name": "stdout",
     "output_type": "stream",
     "text": [
      "Train Score: 0.8485139022051774\n",
      "Test Score: 0.8496168582375478\n"
     ]
    },
    {
     "data": {
      "text/plain": [
       "array([[886,   0],\n",
       "       [157,   1]], dtype=int64)"
      ]
     },
     "execution_count": 53,
     "metadata": {},
     "output_type": "execute_result"
    }
   ],
   "source": [
    "# Model 2: Lasso (l1, alpha = 10)\n",
    "print(f\"Train Score: {lasso10.score(X_train,y_train)}\")\n",
    "print(f\"Test Score: {lasso10.score(X_test,y_test)}\")\n",
    "y_preds = lasso10.predict(X_test)\n",
    "cm = confusion_matrix(y_test,y_preds)\n",
    "cm"
   ]
  },
  {
   "cell_type": "code",
   "execution_count": 54,
   "id": "ef9885bb",
   "metadata": {},
   "outputs": [
    {
     "name": "stdout",
     "output_type": "stream",
     "text": [
      "Train Score: 0.8488334931287952\n",
      "Test Score: 0.8486590038314177\n"
     ]
    },
    {
     "data": {
      "text/plain": [
       "array([[886,   0],\n",
       "       [158,   0]], dtype=int64)"
      ]
     },
     "execution_count": 54,
     "metadata": {},
     "output_type": "execute_result"
    }
   ],
   "source": [
    "# Model 3: Ridge (l2, alpha = 1)\n",
    "print(f\"Train Score: {ridge1.score(X_train,y_train)}\")\n",
    "print(f\"Test Score: {ridge1.score(X_test,y_test)}\")\n",
    "y_preds = ridge1.predict(X_test)\n",
    "cm = confusion_matrix(y_test,y_preds)\n",
    "cm"
   ]
  },
  {
   "cell_type": "code",
   "execution_count": 55,
   "id": "891c1370",
   "metadata": {},
   "outputs": [
    {
     "name": "stdout",
     "output_type": "stream",
     "text": [
      "Train Score: 0.8488334931287952\n",
      "Test Score: 0.8486590038314177\n"
     ]
    },
    {
     "data": {
      "text/plain": [
       "array([[886,   0],\n",
       "       [158,   0]], dtype=int64)"
      ]
     },
     "execution_count": 55,
     "metadata": {},
     "output_type": "execute_result"
    }
   ],
   "source": [
    "# Model 4: Ridge (l2, alpha = 10)\n",
    "print(f\"Train Score: {ridge10.score(X_train,y_train)}\")\n",
    "print(f\"Test Score: {ridge10.score(X_test,y_test)}\")\n",
    "y_preds = ridge10.predict(X_test)\n",
    "cm = confusion_matrix(y_test,y_preds)\n",
    "cm"
   ]
  },
  {
   "cell_type": "code",
   "execution_count": 56,
   "id": "289a96ec",
   "metadata": {},
   "outputs": [
    {
     "name": "stdout",
     "output_type": "stream",
     "text": [
      "Train Score: 0.8488334931287952\n",
      "Test Score: 0.8486590038314177\n"
     ]
    }
   ],
   "source": [
    "# Model 5: Default Logistic Regression\n",
    "print(f\"Train Score: {logreg.score(X_train,y_train)}\")\n",
    "print(f\"Test Score: {logreg.score(X_test,y_test)}\")"
   ]
  },
  {
   "cell_type": "code",
   "execution_count": 57,
   "id": "4526b220",
   "metadata": {},
   "outputs": [
    {
     "data": {
      "text/plain": [
       "-0.0009578544061301653"
      ]
     },
     "execution_count": 57,
     "metadata": {},
     "output_type": "execute_result"
    }
   ],
   "source": [
    "ridge10.score(X_test,y_test) - knn15.score(X_test,y_test)"
   ]
  },
  {
   "cell_type": "code",
   "execution_count": 58,
   "id": "50f5ef68",
   "metadata": {},
   "outputs": [
    {
     "data": {
      "text/plain": [
       "0.0"
      ]
     },
     "execution_count": 58,
     "metadata": {},
     "output_type": "execute_result"
    }
   ],
   "source": [
    "lasso10.score(X_test,y_test) - knn15.score(X_test,y_test)"
   ]
  },
  {
   "cell_type": "markdown",
   "id": "fc0bc084",
   "metadata": {},
   "source": [
    "None of the models is better than the baseline model. Most of them just predict the baseline."
   ]
  },
  {
   "cell_type": "markdown",
   "id": "e36a746e",
   "metadata": {},
   "source": [
    "---\n",
    "\n",
    "## Step 6: Answer the problem.\n",
    "\n",
    "Are any of your models worth moving forward with? What are the \"best\" models?"
   ]
  },
  {
   "cell_type": "markdown",
   "id": "d1b522e7",
   "metadata": {},
   "source": [
    "#### No, none of our models are worth moving forward with as they can not beat the baseline of 84.87% by predicting the majority class.\n",
    "\n",
    "#### The best models are kNN at 15 number of neighbours and Logistic Regression with Lasso penalty at alpha = 10 as they provide us with the highest test score."
   ]
  },
  {
   "cell_type": "code",
   "execution_count": 59,
   "id": "1a325dd8",
   "metadata": {},
   "outputs": [
    {
     "name": "stdout",
     "output_type": "stream",
     "text": [
      "              precision    recall  f1-score   support\n",
      "\n",
      "           0       0.85      1.00      0.92       886\n",
      "           1       1.00      0.01      0.01       158\n",
      "\n",
      "    accuracy                           0.85      1044\n",
      "   macro avg       0.92      0.50      0.47      1044\n",
      "weighted avg       0.87      0.85      0.78      1044\n",
      "\n"
     ]
    }
   ],
   "source": [
    "from sklearn.metrics import classification_report\n",
    "knn15_preds = knn15.predict(X_test)\n",
    "print(classification_report(y_test,knn15_preds))"
   ]
  },
  {
   "cell_type": "code",
   "execution_count": 60,
   "id": "63565525",
   "metadata": {},
   "outputs": [
    {
     "name": "stdout",
     "output_type": "stream",
     "text": [
      "              precision    recall  f1-score   support\n",
      "\n",
      "           0       0.85      1.00      0.92       886\n",
      "           1       1.00      0.01      0.01       158\n",
      "\n",
      "    accuracy                           0.85      1044\n",
      "   macro avg       0.92      0.50      0.47      1044\n",
      "weighted avg       0.87      0.85      0.78      1044\n",
      "\n"
     ]
    }
   ],
   "source": [
    "lasso10_preds = lasso10.predict(X_test)\n",
    "print(classification_report(y_test,lasso10_preds))"
   ]
  },
  {
   "cell_type": "code",
   "execution_count": 61,
   "id": "3d5e573f",
   "metadata": {},
   "outputs": [
    {
     "name": "stdout",
     "output_type": "stream",
     "text": [
      "              precision    recall  f1-score   support\n",
      "\n",
      "           0       0.85      1.00      0.92       886\n",
      "           1       0.00      0.00      0.00       158\n",
      "\n",
      "    accuracy                           0.85      1044\n",
      "   macro avg       0.42      0.50      0.46      1044\n",
      "weighted avg       0.72      0.85      0.78      1044\n",
      "\n"
     ]
    }
   ],
   "source": [
    "logreg_preds = logreg.predict(X_test)\n",
    "print(classification_report(y_test,logreg_preds))"
   ]
  },
  {
   "cell_type": "code",
   "execution_count": 62,
   "id": "0d062cb6",
   "metadata": {},
   "outputs": [
    {
     "name": "stdout",
     "output_type": "stream",
     "text": [
      "              precision    recall  f1-score   support\n",
      "\n",
      "           0       0.85      0.97      0.91       886\n",
      "           1       0.30      0.06      0.10       158\n",
      "\n",
      "    accuracy                           0.84      1044\n",
      "   macro avg       0.58      0.52      0.51      1044\n",
      "weighted avg       0.77      0.84      0.79      1044\n",
      "\n"
     ]
    }
   ],
   "source": [
    "knn5_preds = knn5.predict(X_test)\n",
    "print(classification_report(y_test,knn5_preds))"
   ]
  },
  {
   "cell_type": "code",
   "execution_count": 63,
   "id": "f12d08e6",
   "metadata": {},
   "outputs": [
    {
     "name": "stdout",
     "output_type": "stream",
     "text": [
      "              precision    recall  f1-score   support\n",
      "\n",
      "           0       0.85      0.97      0.91       886\n",
      "           1       0.30      0.06      0.10       158\n",
      "\n",
      "    accuracy                           0.84      1044\n",
      "   macro avg       0.58      0.52      0.51      1044\n",
      "weighted avg       0.77      0.84      0.79      1044\n",
      "\n"
     ]
    }
   ],
   "source": [
    "knn5_preds = knn5.predict(X_test)\n",
    "print(classification_report(y_test,knn5_preds))"
   ]
  }
 ],
 "metadata": {
  "kernelspec": {
   "display_name": "Python 3 (ipykernel)",
   "language": "python",
   "name": "python3"
  },
  "language_info": {
   "codemirror_mode": {
    "name": "ipython",
    "version": 3
   },
   "file_extension": ".py",
   "mimetype": "text/x-python",
   "name": "python",
   "nbconvert_exporter": "python",
   "pygments_lexer": "ipython3",
   "version": "3.9.12"
  }
 },
 "nbformat": 4,
 "nbformat_minor": 5
}
